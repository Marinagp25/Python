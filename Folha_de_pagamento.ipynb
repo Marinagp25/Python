{
  "nbformat": 4,
  "nbformat_minor": 0,
  "metadata": {
    "colab": {
      "name": "Folha de pagamento.ipynb",
      "provenance": [],
      "authorship_tag": "ABX9TyNk+OHaYI6qAKmwM7PU80AI",
      "include_colab_link": true
    },
    "kernelspec": {
      "name": "python3",
      "display_name": "Python 3"
    },
    "language_info": {
      "name": "python"
    }
  },
  "cells": [
    {
      "cell_type": "markdown",
      "metadata": {
        "id": "view-in-github",
        "colab_type": "text"
      },
      "source": [
        "<a href=\"https://colab.research.google.com/github/Marinagp25/Python/blob/main/Folha_de_pagamento.ipynb\" target=\"_parent\"><img src=\"https://colab.research.google.com/assets/colab-badge.svg\" alt=\"Open In Colab\"/></a>"
      ]
    },
    {
      "cell_type": "code",
      "execution_count": null,
      "metadata": {
        "id": "ZZswwVsbEY4i",
        "colab": {
          "base_uri": "https://localhost:8080/"
        },
        "outputId": "68846a24-e1e5-4b0b-afdb-022d1124fd4c"
      },
      "outputs": [
        {
          "metadata": {
            "tags": null
          },
          "name": "stdout",
          "output_type": "stream",
          "text": [
            "NOME: Marina\n",
            "\n",
            "REAJUSTE DE 20%: 1200.0\n",
            "\n",
            "NOVO SALARIO COM AJUSTE: 7200.0\n",
            "\n",
            "Valor atual da folha: 6000.0 R$\n",
            "\n",
            "Valor da nova folha: 7200.0 R$\n",
            "\n"
          ]
        }
      ],
      "source": [
        "salarioMin = float(input(\"Digite o valor do salario minimo hoje: \\n\"))\n",
        "\n",
        "for i in range(0, 5):\n",
        "\n",
        "       nome = input(\"Digite seu nome: \\n\")\n",
        "       salario = float(input(\"Digite o valor do seu salario: \\n\"))\n",
        "\n",
        "       if salario < salarioMin*3:\n",
        "          reajuste = 50/100\n",
        "          total = reajuste+(salario*reajuste)\n",
        "          folha =+ salario\n",
        "          salarioNovo = salario+(salario*reajuste)\n",
        "          novaFolha =+salarioNovo\n",
        "        \n",
        "          print(f\"NOME: {nome}\\n\")\n",
        "          print(f\"REAJUSTE DE 50%: {salario*reajuste}\\n\")\n",
        "          print(f\"NOVO SALARIO COM AJUSTE: {salarioNovo}\\n\")\n",
        "        \n",
        "       elif salario <= salarioMin*10:\n",
        "            reajuste = 20/100\n",
        "            total = reajuste+(salario*reajuste)\n",
        "            folha =+ salario\n",
        "            salarioNovo = salario+(salario*reajuste)\n",
        "            novaFolha =+salarioNovo\n",
        "        \n",
        "            print(f\"NOME: {nome}\\n\")\n",
        "            print(f\"REAJUSTE DE 20%: {salario*reajuste}\\n\")\n",
        "            print(f\"NOVO SALARIO COM AJUSTE: {salarioNovo}\\n\")\n",
        "        \n",
        "       elif salario <= salarioMin*20:\n",
        "            reajuste = 15/100\n",
        "            total = reajuste+(salario*reajuste)\n",
        "            folha =+ salario\n",
        "            salarioNovo = salario+(salario*reajuste)\n",
        "            novaFolha =+ salarioNovo\n",
        "        \n",
        "            print(f\"NOME: {nome}\\n\")\n",
        "            print(f\"REAJUSTE DE 15%: {salario*reajuste}\\n\")\n",
        "            print(f\"NOVO SALARIO COM AJUSTE: {salarioNovo}\\n\")\n",
        "        \n",
        "       else:\n",
        "            reajuste = 20/100\n",
        "            total = reajuste+(salario*reajuste)\n",
        "            folha =+ salario\n",
        "            salarioNovo = salario+(salario*reajuste)\n",
        "            novaFolha =+salarioNovo\n",
        "        \n",
        "            print(f\"NOME: {nome}\\n\")\n",
        "            print(f\"REAJUSTE DE 10%: {salario*reajuste}\\n\")\n",
        "            print(f\"NOVO SALARIO COM AJUSTE: {salarioNovo}\\n\")\n",
        "        \n",
        "        \n",
        "       print(f\"Valor atual da folha: {folha} R$\\n\")\n",
        "       print(f\"Valor da nova folha: {novaFolha} R$\\n\")\n",
        "\n",
        "    \n",
        "print(\"A empresa aumentou a folha de pagamentos em: \", novaFolha - folha)   "
      ]
    }
  ]
}