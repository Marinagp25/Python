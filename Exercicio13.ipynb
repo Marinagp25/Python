{
  "nbformat": 4,
  "nbformat_minor": 0,
  "metadata": {
    "colab": {
      "name": "Exercicio13.ipynb",
      "provenance": [],
      "authorship_tag": "ABX9TyOgDPT1GYZRt8PttOKO3cTe",
      "include_colab_link": true
    },
    "kernelspec": {
      "name": "python3",
      "display_name": "Python 3"
    },
    "language_info": {
      "name": "python"
    }
  },
  "cells": [
    {
      "cell_type": "markdown",
      "metadata": {
        "id": "view-in-github",
        "colab_type": "text"
      },
      "source": [
        "<a href=\"https://colab.research.google.com/github/Marinagp25/Python/blob/main/Exercicio13.ipynb\" target=\"_parent\"><img src=\"https://colab.research.google.com/assets/colab-badge.svg\" alt=\"Open In Colab\"/></a>"
      ]
    },
    {
      "cell_type": "code",
      "execution_count": 1,
      "metadata": {
        "colab": {
          "base_uri": "https://localhost:8080/"
        },
        "id": "cglzJ7FIMMBP",
        "outputId": "78df2eb1-ffa3-451f-bd83-7930bcf27a43"
      },
      "outputs": [
        {
          "output_type": "stream",
          "name": "stdout",
          "text": [
            "Quantidade vendida neste mês : 653000\n",
            "Batemos a meta de vendas que foi:  653000.0\n"
          ]
        }
      ],
      "source": [
        "meta_iphone = 50000\n",
        "qtd_venda =  float(input(\"Quantidade vendida neste mês : \"))\n",
        "                \n",
        "if qtd_venda > meta_iphone:\n",
        "    print(\"Batemos a meta de vendas que foi: \", qtd_venda)"
      ]
    }
  ]
}