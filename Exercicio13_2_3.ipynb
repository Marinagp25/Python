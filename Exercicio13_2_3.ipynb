{
  "nbformat": 4,
  "nbformat_minor": 0,
  "metadata": {
    "colab": {
      "name": "Exercicio13_2_3.ipynb",
      "provenance": [],
      "authorship_tag": "ABX9TyMDIl4K3KUlcJTSXpBFK+ee",
      "include_colab_link": true
    },
    "kernelspec": {
      "name": "python3",
      "display_name": "Python 3"
    },
    "language_info": {
      "name": "python"
    }
  },
  "cells": [
    {
      "cell_type": "markdown",
      "metadata": {
        "id": "view-in-github",
        "colab_type": "text"
      },
      "source": [
        "<a href=\"https://colab.research.google.com/github/Marinagp25/Python/blob/main/Exercicio13_2_3.ipynb\" target=\"_parent\"><img src=\"https://colab.research.google.com/assets/colab-badge.svg\" alt=\"Open In Colab\"/></a>"
      ]
    },
    {
      "cell_type": "code",
      "execution_count": 5,
      "metadata": {
        "colab": {
          "base_uri": "https://localhost:8080/"
        },
        "id": "FFl5hLiuH2cr",
        "outputId": "dc25a0f8-82ed-4af3-dbec-99c8aec9bb76"
      },
      "outputs": [
        {
          "output_type": "stream",
          "name": "stdout",
          "text": [
            "Amazon\n",
            "Digite a meta em dinheiro do funcionario neste mês: 65000\n",
            "Bônus dela será de 3%:  1950.0\n"
          ]
        }
      ],
      "source": [
        "print(\"Amazon\")\n",
        "\n",
        "meta = 20000\n",
        "\n",
        "funcionario = int(input(\"Digite a meta em dinheiro do funcionario neste mês: \"))\n",
        "\n",
        "if funcionario > meta:\n",
        "   bonus = (funcionario * 3/100)\n",
        "   print(\"Bônus dela será de 3%: \", bonus)\n",
        "elif funcionario < (meta*2):\n",
        "   bonus = (funcionario * 7/100)\n",
        "   print(\"Bônus dela será de 7%: \", meta)\n",
        "else:\n",
        "   print(\"Não tem bônus\")"
      ]
    },
    {
      "cell_type": "code",
      "source": [
        "#O fundo se compromete a entregar no mínimo 5% de retorno ao ano. \n",
        "#Caso o fundo não consiga entregar os 5% de retorno, ele não pode cobrar taxa dos seus investidores.\n",
        "#Caso o fundo consiga entregar mais de 5% de retorno, ele irá cobrar 2% de taxa dos seus investidores.\n",
        "#Caso o fundo consiga mais de 20% de retorno, ele irá cobrar 4% de taxa dos seus investidores.\")\n",
        "\n",
        "print(\"Fundos\")\n",
        "\n",
        "fundos_ano = 70000\n",
        "\n",
        "fundos_receber = fundos_ano + (fundos_ano * 5/100)\n",
        "print(\"Fundos que tem a receber é: \", fundos_receber)\n",
        "\n",
        "fundos_rec= float(input(\"Qual foi qtd de fundos recebidos? \"))\n",
        "\n",
        "if fundos_rec > fundos_receber:\n",
        "   fundos = fundos_rec * 2/100\n",
        "   print(\"Cobrar 2%: \", fundos)\n",
        "elif fundos_rec > (fundos_receber + (fundos_receber * 20/100)):\n",
        "   fundos = fundos_rec * 4/100\n",
        "   print(\"Cobrar 4%: \", fundos)\n",
        "else:\n",
        "   print(\"Não cobrar\")  "
      ],
      "metadata": {
        "colab": {
          "base_uri": "https://localhost:8080/"
        },
        "id": "QihblHV8Q5qq",
        "outputId": "5a74edd4-646a-4da9-eadd-126e2fddc753"
      },
      "execution_count": 15,
      "outputs": [
        {
          "output_type": "stream",
          "name": "stdout",
          "text": [
            "Fundos\n",
            "Fundos que tem a receber é:  73500.0\n",
            "Qual foi qtd de fundos recebidos? 90000\n",
            "Cobrar 2%:  1800.0\n"
          ]
        }
      ]
    }
  ]
}