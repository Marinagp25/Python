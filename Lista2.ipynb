{
  "nbformat": 4,
  "nbformat_minor": 0,
  "metadata": {
    "colab": {
      "name": "Lista2.ipynb",
      "provenance": [],
      "authorship_tag": "ABX9TyN72uv8TJNfG8crzZfT6NK4",
      "include_colab_link": true
    },
    "kernelspec": {
      "name": "python3",
      "display_name": "Python 3"
    },
    "language_info": {
      "name": "python"
    }
  },
  "cells": [
    {
      "cell_type": "markdown",
      "metadata": {
        "id": "view-in-github",
        "colab_type": "text"
      },
      "source": [
        "<a href=\"https://colab.research.google.com/github/Marinagp25/Python/blob/main/Lista2.ipynb\" target=\"_parent\"><img src=\"https://colab.research.google.com/assets/colab-badge.svg\" alt=\"Open In Colab\"/></a>"
      ]
    },
    {
      "cell_type": "code",
      "execution_count": null,
      "metadata": {
        "colab": {
          "base_uri": "https://localhost:8080/"
        },
        "id": "HEdhZXbDTuAi",
        "outputId": "82362c92-7236-4b2a-e351-869c64f0feca"
      },
      "outputs": [
        {
          "output_type": "stream",
          "name": "stdout",
          "text": [
            "15\n",
            "Multiplicação: 120\n"
          ]
        }
      ],
      "source": [
        "#1_Questão \n",
        "# Faça um Programa que leia um vetor de 5 números inteiros, mostre a  soma, a multiplicação e os números. \n",
        "\n",
        "num = [1, 2, 3, 4, 5]\n",
        "\n",
        "soma = sum(num)\n",
        "print(soma)\n",
        "\n",
        "multiplicacao = 1\n",
        "for num in num:\n",
        "   multiplicacao = multiplicacao * num\n",
        "print(\"Multiplicação: \" + str(multiplicacao))\n",
        "\n",
        "\n"
      ]
    },
    {
      "cell_type": "code",
      "source": [
        "#2_Questão\n",
        "#Faça um Programa que leia um vetor A com 10 números inteiros, calcule  e mostre a soma dos quadrados dos elementos do vetor. \n",
        "\n",
        "vetorA = []\n",
        "soma = 0\n",
        "for numero in range(0, 10):\n",
        "    vetorA.append(int(input(\"Digite um número: \")))\n",
        "    soma = soma + (vetorA[len(vetorA)-1]**2)\n",
        "print(\"A soma dos quadrados dos elementos do vetor \" + str(soma))"
      ],
      "metadata": {
        "colab": {
          "base_uri": "https://localhost:8080/"
        },
        "id": "i0_Wns-basuP",
        "outputId": "0c9d0d07-da73-4ffe-a471-9349143905af"
      },
      "execution_count": null,
      "outputs": [
        {
          "output_type": "stream",
          "name": "stdout",
          "text": [
            "Digite um número: 2\n",
            "Digite um número: 3\n",
            "Digite um número: 4\n",
            "Digite um número: 5\n",
            "Digite um número: 6\n",
            "Digite um número: 7\n",
            "Digite um número: 8\n",
            "Digite um número: 9\n",
            "Digite um número: 9\n",
            "Digite um número: 3\n",
            "A soma dos quadrados dos elementos do vetor 374\n"
          ]
        }
      ]
    },
    {
      "cell_type": "code",
      "source": [
        "#3_Questão\n",
        "#Foram anotadas as idades e alturas de 30 alunos. Faça um Programa que determine quantos alunos com mais de 13 anos possuem altura inferior à média de altura desses alunos.\n",
        "import numpy as np\n",
        "maior = 0\n",
        "menor = 0\n",
        "idade =  np.random.randint(1, 50, 30)\n",
        "print(idade)\n",
        "\n",
        "alturas = [1.60, 1.35, 1.76, 1.98, 1.77, 1.66, 1.80, 1.25, 1.95, 1.16, 1.38, 1.27, 1.16, 1.47, 1.68, 1.53, 1.67, 1.89, 1.30, 1.66, 1.805, 1.60, 1.35, 1.06, 1.68, 1.47, 1.69, 1.80, 1.54, 1.46]\n",
        "\n",
        "mediaAltura = sum(alturas)/len(alturas)\n",
        "\n",
        "quantidadeAlunos = 0\n",
        "for i in range(0, len(idade)):\n",
        "    if idade[i] > 13 and alturas[i] < mediaAltura:\n",
        "        quantidadeAlunos = quantidadeAlunos + 1\n",
        "\n",
        "print (str(quantidadeAlunos) + \" alunos possuem mais de 13 anos e altura inferior à média de altura dos alunos\")\n",
        "\n"
      ],
      "metadata": {
        "id": "DLrTa45ubHnD",
        "colab": {
          "base_uri": "https://localhost:8080/"
        },
        "outputId": "ba0102cf-4daf-489c-c5bc-58400fca2072"
      },
      "execution_count": null,
      "outputs": [
        {
          "output_type": "stream",
          "name": "stdout",
          "text": [
            "[12 14  5 14 19  9  3 36 49 44  2 30  6 48 35 23 17 26 30 41 24 46 24 37\n",
            "  1 22 24  7 15 22]\n",
            "12 alunos possuem mais de 13 anos e altura inferior à média de altura dos alunos\n"
          ]
        }
      ]
    },
    {
      "cell_type": "code",
      "source": [
        "#4_Questão\n",
        "#Faça um programa que receba a temperatura média de cada mês do ano  e armazene-as em uma lista. Após isto, calcule a média anual das  temperaturas e mostre todas as temperaturas acima da média anual, e  em que mês elas ocorreram (mostrar o mês por extenso: 1 – Janeiro, 2 – Fevereiro, . . . ). \n",
        "\n",
        "\n",
        "meses = [\"Janeiro\", \"Fevereiro\", \"Março\", \"Abril\", \"Maio\", \"Junho\", \"Julho\", \"Agosto\", \"Setembro\", \"Outubro\", \"Novembro\", \"Dezembro\"]\n",
        "temperatura = []\n",
        "\n",
        "for m in range(0, len(meses)):\n",
        "    temperatura.append(float(input(\"Digite a temperatura do mês de \" + meses[m] + \": \")))\n",
        "\n",
        "mediaAnual = sum(temperatura)/len(temperatura)\n",
        "print(mediaAnual)\n",
        "\n",
        "for m in range(0, len(temperatura)):\n",
        "    if temperatura[m] > mediaAnual:\n",
        "        print (str(m+1) + \" - \" + meses[m])\n",
        "\n"
      ],
      "metadata": {
        "id": "6nr8tgqPSsaz",
        "colab": {
          "base_uri": "https://localhost:8080/"
        },
        "outputId": "429c7023-d265-46c6-f435-26a983cd6a54"
      },
      "execution_count": null,
      "outputs": [
        {
          "output_type": "stream",
          "name": "stdout",
          "text": [
            "Digite a temperatura do mês de Janeiro: 35\n",
            "Digite a temperatura do mês de Fevereiro: 23\n",
            "Digite a temperatura do mês de Março: 24\n",
            "Digite a temperatura do mês de Abril: 34\n",
            "Digite a temperatura do mês de Maio: 35\n",
            "Digite a temperatura do mês de Junho: 29\n",
            "Digite a temperatura do mês de Julho: 38\n",
            "Digite a temperatura do mês de Agosto: 26\n",
            "Digite a temperatura do mês de Setembro: 33\n",
            "Digite a temperatura do mês de Outubro: 32\n",
            "Digite a temperatura do mês de Novembro: 31\n",
            "Digite a temperatura do mês de Dezembro: 29\n",
            "30.75\n",
            "1 - Janeiro\n",
            "4 - Abril\n",
            "5 - Maio\n",
            "7 - Julho\n",
            "9 - Setembro\n",
            "10 - Outubro\n",
            "11 - Novembro\n"
          ]
        }
      ]
    },
    {
      "cell_type": "code",
      "source": [
        "#5_Questão\n",
        "#Utilizando listas faça um programa que faça 5 perguntas para uma pessoa sobre um crime. As perguntas são:\n",
        "#a) \"Telefonou para a vítima?\"\n",
        "#b) \"Esteve no local do crime?\"\n",
        "#c) \"Mora perto da vítima?\"\n",
        "#d) \"Devia para a vítima?\"\n",
        "#e) \"Já trabalhou com a vítima?\"\n",
        "#O programa deve no final emitir uma classificação sobre a participação da pessoa no crime. Se a pessoa responder positivamente a 2 questões ela deve ser classificada como \"Suspeita\", entre 3 e 4 como \"Cúmplice\" e 5\n",
        "#como \"Assassino\". Caso contrário, ele será classificado como \"Inocente\".\n",
        "s = 0\n",
        "n = 0\n",
        "\n",
        "perguntas =  [\"Telefonou para a vítima?\", \"Esteve no local do crime?\", \"Mora perto da vítima?\", \"Devia para a vítima?\", \"Já trabalhou com a vítima?\"]\n",
        "\n",
        "print(\"De acordo com a pergunta responda s ou n\")\n",
        "print(perguntas[0])\n",
        "r =  str(input(\"responda: \"))\n",
        "print(perguntas[1])\n",
        "r =  str(input(\"responda: \"))\n",
        "print(perguntas[2])\n",
        "r =  str(input(\"responda: \"))\n",
        "print(perguntas[3])\n",
        "r =  str(input(\"responda: \"))\n",
        "print(perguntas[4])\n",
        "r =  str(input(\"responda: \"))\n",
        "\n",
        "while r == 's':\n",
        "   s += +1\n",
        "if r == 's' == 2:\n",
        "    print('Suspeita')\n",
        "elif r == 's' == 3 or 4:\n",
        "    print('Cumplice')\n",
        "elif r == 's' == 5:\n",
        "    print('Assasina')\n",
        "else:\n",
        "    print('Nada a declarar')\n",
        "   \n",
        "\n",
        "  \n"
      ],
      "metadata": {
        "colab": {
          "base_uri": "https://localhost:8080/"
        },
        "id": "Bvus6KhwUgKz",
        "outputId": "67bd4149-9325-4af1-a00a-28651abf59dd"
      },
      "execution_count": 1,
      "outputs": [
        {
          "output_type": "stream",
          "name": "stdout",
          "text": [
            "De acordo com a pergunta responda s ou n\n",
            "Telefonou para a vítima?\n",
            "responda: s\n",
            "Esteve no local do crime?\n",
            "responda: n\n",
            "Mora perto da vítima?\n",
            "responda: n\n",
            "Devia para a vítima?\n",
            "responda: s\n",
            "Já trabalhou com a vítima?\n",
            "responda: n\n",
            "Cumplice\n"
          ]
        }
      ]
    },
    {
      "cell_type": "code",
      "source": [
        ""
      ],
      "metadata": {
        "id": "K4O2zHUHmYeB"
      },
      "execution_count": null,
      "outputs": []
    },
    {
      "cell_type": "code",
      "source": [
        "#6_Questão\n",
        "#Crie um dicionário que é uma agenda e coloque nele os seguintes dados: chave (cpf), nome, idade, telefone. E em seguida mostre:\n",
        "#a) Suas Chaves\n",
        "#b) Seus Elementos\n",
        "\n",
        "agenda = {\"02134078251\":\"Marina, 23 anos, 84407136\", \"05428795212\":\"Gabriela, 20 anos, 93458901\", \"3240978678\":\"Ana, 19 anos, 873456738\"}\n",
        "print(agenda)\n",
        "\n",
        "print(agenda.keys())\n",
        "print(agenda.values())\n"
      ],
      "metadata": {
        "colab": {
          "base_uri": "https://localhost:8080/"
        },
        "id": "qQeD-AB9bQVR",
        "outputId": "c18e7e0f-cb38-4ccf-b008-66733e6df4e1"
      },
      "execution_count": 5,
      "outputs": [
        {
          "output_type": "stream",
          "name": "stdout",
          "text": [
            "{'02134078251': 'Marina, 23 anos, 84407136', '05428795212': 'Gabriela, 20 anos, 93458901', '3240978678': 'Ana, 19 anos, 873456738'}\n",
            "dict_keys(['02134078251', '05428795212', '3240978678'])\n",
            "dict_values(['Marina, 23 anos, 84407136', 'Gabriela, 20 anos, 93458901', 'Ana, 19 anos, 873456738'])\n"
          ]
        }
      ]
    },
    {
      "cell_type": "code",
      "source": [
        "#7_Questão\n",
        "#Melhore o programa acima adicionando a função que ler um número indeterminado de dados, e imprima todos os itens do dicionário no formato “Chave: nome-idade-fone”\n",
        "\n",
        "agenda = {\"02134078251\":\"Marina, 23 anos, 84407136\", \"05428795212\":\"Gabriela, 20 anos, 93458901\", \"3240978678\":\"Ana, 19 anos, 873456738\"}\n",
        "print(agenda)\n",
        "\n",
        "for k,y in agenda.items():\n",
        "  print(\"CPF\", (k), \":\", (y))\n",
        "\n"
      ],
      "metadata": {
        "id": "cf7mP3ENhMuf",
        "outputId": "7b478f45-9bee-480c-af9c-f0c4f5336b02",
        "colab": {
          "base_uri": "https://localhost:8080/"
        }
      },
      "execution_count": 4,
      "outputs": [
        {
          "output_type": "stream",
          "name": "stdout",
          "text": [
            "{'02134078251': 'Marina, 23 anos, 84407136', '05428795212': 'Gabriela, 20 anos, 93458901', '3240978678': 'Ana, 19 anos, 873456738'}\n",
            "CPF 02134078251 : Marina, 23 anos, 84407136\n",
            "CPF 05428795212 : Gabriela, 20 anos, 93458901\n",
            "CPF 3240978678 : Ana, 19 anos, 873456738\n"
          ]
        }
      ]
    },
    {
      "cell_type": "code",
      "source": [
        "#8_Questão\n",
        "#Crie um programa que cadastre informações de várias pessoas (nome, idade e cpf e depois coloque em um dicionário. Depois remova todas as pessoas menores de 18 anos do dicionário e coloque em outro dicionário.\n",
        "\n"
      ],
      "metadata": {
        "id": "SgegkzKaozk2"
      },
      "execution_count": null,
      "outputs": []
    },
    {
      "cell_type": "code",
      "source": [
        ""
      ],
      "metadata": {
        "id": "jk5HvEgEbQes"
      },
      "execution_count": null,
      "outputs": []
    }
  ]
}