{
  "nbformat": 4,
  "nbformat_minor": 0,
  "metadata": {
    "colab": {
      "name": "Lista1.ipynb",
      "provenance": [],
      "authorship_tag": "ABX9TyPF5GIHM7ZpScWVv/iNGc9Z",
      "include_colab_link": true
    },
    "kernelspec": {
      "name": "python3",
      "display_name": "Python 3"
    },
    "language_info": {
      "name": "python"
    }
  },
  "cells": [
    {
      "cell_type": "markdown",
      "metadata": {
        "id": "view-in-github",
        "colab_type": "text"
      },
      "source": [
        "<a href=\"https://colab.research.google.com/github/Marinagp25/Python/blob/main/Lista1.ipynb\" target=\"_parent\"><img src=\"https://colab.research.google.com/assets/colab-badge.svg\" alt=\"Open In Colab\"/></a>"
      ]
    },
    {
      "cell_type": "code",
      "execution_count": null,
      "metadata": {
        "colab": {
          "base_uri": "https://localhost:8080/"
        },
        "id": "YqBdYxB0MMpl",
        "outputId": "25a19b81-a8a8-4d43-ca1e-1d924061b9b3"
      },
      "outputs": [
        {
          "output_type": "stream",
          "name": "stdout",
          "text": [
            "0\n",
            "2\n",
            "4\n",
            "6\n",
            "8\n",
            "10\n",
            "12\n",
            "14\n",
            "16\n",
            "18\n",
            "20\n",
            "22\n",
            "24\n",
            "26\n",
            "28\n",
            "30\n",
            "32\n",
            "34\n",
            "36\n",
            "38\n",
            "40\n",
            "42\n",
            "44\n",
            "46\n",
            "48\n"
          ]
        }
      ],
      "source": [
        "#Crie um programa que mostre na tela todos os números pares que estão no intervalo entre 1 e 50. Usando FOR.\n",
        "for i in range(0, 50):\n",
        " if i % 2 == 0:\n",
        "    print(i)"
      ]
    },
    {
      "cell_type": "code",
      "source": [
        "#Faça um programa que calcule a soma entre todos os números ímpares de 0 até 500. Usando FOR.\n",
        "for i in range(0, 50):\n",
        " if i % 2 != 0:\n",
        "    print(i)"
      ],
      "metadata": {
        "colab": {
          "base_uri": "https://localhost:8080/"
        },
        "id": "JCw0NP4wMpn-",
        "outputId": "d897c8f3-1692-47d2-a2c3-774f253086c7"
      },
      "execution_count": null,
      "outputs": [
        {
          "output_type": "stream",
          "name": "stdout",
          "text": [
            "1\n",
            "3\n",
            "5\n",
            "7\n",
            "9\n",
            "11\n",
            "13\n",
            "15\n",
            "17\n",
            "19\n",
            "21\n",
            "23\n",
            "25\n",
            "27\n",
            "29\n",
            "31\n",
            "33\n",
            "35\n",
            "37\n",
            "39\n",
            "41\n",
            "43\n",
            "45\n",
            "47\n",
            "49\n"
          ]
        }
      ]
    },
    {
      "cell_type": "code",
      "source": [
        "#Desenvolva um programa que leia seis números inteiros e mostre a soma apenas dos números pares. Se for ímpar descartar. Usando FOR.\n",
        "soma = 0\n",
        "for i in range(6):\n",
        "    valor = int(input(\"Digite algum valor: \"))\n",
        "    if valor % 2 == 0:\n",
        "\n",
        "     soma += valor\n",
        "print(\"A soma dos valores pares: \", soma)\n"
      ],
      "metadata": {
        "colab": {
          "base_uri": "https://localhost:8080/"
        },
        "id": "RhC3wisNOTa_",
        "outputId": "1246c4f2-7e9e-48a7-ccda-4784b32d3e46"
      },
      "execution_count": 1,
      "outputs": [
        {
          "output_type": "stream",
          "name": "stdout",
          "text": [
            "Digite algum valor: 7\n",
            "Digite algum valor: 9\n",
            "Digite algum valor: 8\n",
            "Digite algum valor: 2\n",
            "Digite algum valor: 5\n",
            "Digite algum valor: 0\n",
            "A soma dos valores pares:  10\n"
          ]
        }
      ]
    },
    {
      "cell_type": "code",
      "source": [
        "#Faça um programa que leia um número inteiro e diga se ele é ou não um número primo. Usando FOR.\n",
        "num = int(input('Digite um número: '))\n",
        "primo = 0\n",
        "for i in range(1, num + 1):\n",
        "    if num % i == 0:\n",
        "        primo += + 1\n",
        "if primo == 2:\n",
        "    print('PRIMO')\n",
        "else:\n",
        "    print('NÃO É PRIMO')\n"
      ],
      "metadata": {
        "id": "svZtsLjEXmOh",
        "colab": {
          "base_uri": "https://localhost:8080/"
        },
        "outputId": "c3ff86d3-6d42-462e-c108-e155fcc9eb7f"
      },
      "execution_count": null,
      "outputs": [
        {
          "output_type": "stream",
          "name": "stdout",
          "text": [
            "Digite um número: 5\n",
            "PRIMO\n"
          ]
        }
      ]
    },
    {
      "cell_type": "code",
      "source": [
        "#Faça um programa que leia a idade de 6 pessoas e diga quantas atingiram a maioridade e quantas não atingiram. Usando FOR.\n",
        "maior = 0\n",
        "menor = 0\n",
        "\n",
        "for i in range(6):\n",
        "    idade = int(input(\"Digite a idade: \"))\n",
        "    if idade >= 18:\n",
        "      print(\"Maior de idade\")\n",
        "      maior += 1\n",
        "    else:\n",
        "      print(\"Menor de idade\")\n",
        "      menor += 1\n",
        "\n",
        "print('{} pessoas já são adultas e {} pessoas ainda não atingiram a maioridade.'.format(maior, menor))\n",
        "\n"
      ],
      "metadata": {
        "colab": {
          "base_uri": "https://localhost:8080/"
        },
        "id": "ZSolBjbjpKVA",
        "outputId": "a07ce998-0a92-4e85-aaa2-da96ebf9262d"
      },
      "execution_count": 16,
      "outputs": [
        {
          "output_type": "stream",
          "name": "stdout",
          "text": [
            "Digite a idade: 17\n",
            "Menor de idade\n",
            "Digite a idade: 15\n",
            "Menor de idade\n",
            "Digite a idade: 20\n",
            "Maior de idade\n",
            "Digite a idade: 45\n",
            "Maior de idade\n",
            "Digite a idade: 3\n",
            "Menor de idade\n",
            "Digite a idade: 21\n",
            "Maior de idade\n",
            "3 pessoas já são adultas e 3 pessoas ainda não atingiram a maioridade.\n"
          ]
        }
      ]
    },
    {
      "cell_type": "markdown",
      "source": [
        ""
      ],
      "metadata": {
        "id": "RHduiKfJGaF8"
      }
    },
    {
      "cell_type": "code",
      "source": [
        "#Faça um programa que leia 5 números e informe o maior número. Usando While\n",
        "num = []\n",
        "\n",
        "for i in range(5):\n",
        "    num = input(\"Digite um valor: \")\n",
        "    while num == 5: \n",
        "      num.append(num)\n",
        "      print(num)\n",
        "\n",
        "print(max(num))"
      ],
      "metadata": {
        "colab": {
          "base_uri": "https://localhost:8080/"
        },
        "id": "hQ0mmD4hEgUM",
        "outputId": "c2631b75-a40a-4f3d-a917-5913503af3a3"
      },
      "execution_count": 9,
      "outputs": [
        {
          "output_type": "stream",
          "name": "stdout",
          "text": [
            "Digite um valor: 3\n",
            "Digite um valor: 5\n",
            "Digite um valor: 6\n",
            "Digite um valor: 7\n",
            "Digite um valor: 8\n",
            "8\n"
          ]
        }
      ]
    },
    {
      "cell_type": "code",
      "source": [
        "#Faça um programa que calcule a soma entre todos os números ímpares de 0 até 500.\n",
        "\n",
        "soma = 0\n",
        "for i in range(0, 500):\n",
        "  if i % 2 == 1:\n",
        "   soma += i\n",
        "print(\"A soma dos valores: \", soma)\n",
        "\n",
        "\n"
      ],
      "metadata": {
        "colab": {
          "base_uri": "https://localhost:8080/"
        },
        "id": "pzYyPK8OEgVI",
        "outputId": "70c7e7ce-b1c0-4e48-9f3f-eaaa89efe44c"
      },
      "execution_count": 44,
      "outputs": [
        {
          "output_type": "stream",
          "name": "stdout",
          "text": [
            "A soma dos valores:  62500\n"
          ]
        }
      ]
    },
    {
      "cell_type": "code",
      "source": [
        "#a. Todos os quadrados menores que n. Por exemplo, se n for 100, imprimir 0 1 4 9 16 25 36 49 64 81.\n",
        "quadrados=[]\n",
        "for num in range(0,10):\n",
        "    quadrados.append(num*num)\n",
        "print(quadrados)\n"
      ],
      "metadata": {
        "colab": {
          "base_uri": "https://localhost:8080/"
        },
        "id": "H9DPvbZjTv7m",
        "outputId": "d230703f-af35-4681-8ac5-4f7e05548d49"
      },
      "execution_count": 53,
      "outputs": [
        {
          "output_type": "stream",
          "name": "stdout",
          "text": [
            "[0, 1, 4, 9, 16, 25, 36, 49, 64, 81]\n"
          ]
        }
      ]
    },
    {
      "cell_type": "code",
      "source": [
        "#b. Todos os números positivos que são divisíveis por 10 e menores que n. Por exemplo, se n for 100, imprimir 10 20 30 40 50 60 70 80 90.\n",
        "\n",
        "for numero in range(0, 100, +10):\n",
        "  num = (numero / 10) * 10\n",
        "  print(num)"
      ],
      "metadata": {
        "colab": {
          "base_uri": "https://localhost:8080/"
        },
        "id": "K10xNFCDnvjh",
        "outputId": "a8c649e1-b57b-40d2-fe04-7c2b46034d15"
      },
      "execution_count": 72,
      "outputs": [
        {
          "output_type": "stream",
          "name": "stdout",
          "text": [
            "0.0\n",
            "10.0\n",
            "20.0\n",
            "30.0\n",
            "40.0\n",
            "50.0\n",
            "60.0\n",
            "70.0\n",
            "80.0\n",
            "90.0\n"
          ]
        }
      ]
    },
    {
      "cell_type": "code",
      "source": [
        "#c. Todas as potências de dois menores que n. Por exemplo, se n for 100, imprimir 1 2 4 8 16 32 64.\n",
        "valor = 0\n",
        "for i in range(0, 10, +1):\n",
        "  i *= 2\n",
        "  print(i)\n",
        "  "
      ],
      "metadata": {
        "colab": {
          "base_uri": "https://localhost:8080/"
        },
        "id": "FGiaE2aznw4f",
        "outputId": "c71dc3b0-6e34-47ff-d3a8-09c4425501a0"
      },
      "execution_count": 90,
      "outputs": [
        {
          "output_type": "stream",
          "name": "stdout",
          "text": [
            "0\n",
            "2\n",
            "4\n",
            "6\n",
            "8\n",
            "10\n",
            "12\n",
            "14\n",
            "16\n",
            "18\n"
          ]
        }
      ]
    }
  ]
}