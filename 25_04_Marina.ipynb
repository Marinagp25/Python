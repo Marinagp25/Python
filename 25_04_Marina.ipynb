{
  "nbformat": 4,
  "nbformat_minor": 0,
  "metadata": {
    "colab": {
      "name": "25_04/Marina.ipynb",
      "provenance": [],
      "authorship_tag": "ABX9TyONpEnHSJOlVK9Dj0rfncEm",
      "include_colab_link": true
    },
    "kernelspec": {
      "name": "python3",
      "display_name": "Python 3"
    },
    "language_info": {
      "name": "python"
    }
  },
  "cells": [
    {
      "cell_type": "markdown",
      "metadata": {
        "id": "view-in-github",
        "colab_type": "text"
      },
      "source": [
        "<a href=\"https://colab.research.google.com/github/Marinagp25/Python/blob/main/25_04_Marina.ipynb\" target=\"_parent\"><img src=\"https://colab.research.google.com/assets/colab-badge.svg\" alt=\"Open In Colab\"/></a>"
      ]
    },
    {
      "cell_type": "code",
      "execution_count": 1,
      "metadata": {
        "colab": {
          "base_uri": "https://localhost:8080/"
        },
        "id": "84v_wXfT7G0u",
        "outputId": "10e8f4cb-87c9-4314-cfc0-c984a3e7c455"
      },
      "outputs": [
        {
          "output_type": "stream",
          "name": "stdout",
          "text": [
            "Mari\n",
            "Mari\n",
            "Mari\n"
          ]
        }
      ],
      "source": [
        "print(\"Mari\")\n",
        "print(\"Mari\")\n",
        "print(\"Mari\")"
      ]
    },
    {
      "cell_type": "code",
      "source": [
        "for i in range(3):\n",
        "  print(\"Mari\")"
      ],
      "metadata": {
        "colab": {
          "base_uri": "https://localhost:8080/"
        },
        "id": "qs4aSzahAIhT",
        "outputId": "eda3b326-4aa3-4e7e-d9f0-474dd8fe2bc9"
      },
      "execution_count": 2,
      "outputs": [
        {
          "output_type": "stream",
          "name": "stdout",
          "text": [
            "Mari\n",
            "Mari\n",
            "Mari\n"
          ]
        }
      ]
    },
    {
      "cell_type": "code",
      "source": [
        " for i in range(6, 0, -1):\n",
        "   print(i)\n",
        "print(\"FIM\")"
      ],
      "metadata": {
        "colab": {
          "base_uri": "https://localhost:8080/"
        },
        "id": "OReIysFXBeri",
        "outputId": "ef9970b2-66f9-4f84-b8f4-6e94e660c5c0"
      },
      "execution_count": 5,
      "outputs": [
        {
          "output_type": "stream",
          "name": "stdout",
          "text": [
            "6\n",
            "5\n",
            "4\n",
            "3\n",
            "2\n",
            "1\n",
            "FIM\n"
          ]
        }
      ]
    },
    {
      "cell_type": "code",
      "source": [
        "for i in range(0,10, 1):\n",
        "  print(\"Os valores são: \", i)"
      ],
      "metadata": {
        "colab": {
          "base_uri": "https://localhost:8080/"
        },
        "id": "FT_Pu1qjHoW7",
        "outputId": "c2d7f054-765a-435d-b1cb-107b1e30111e"
      },
      "execution_count": 10,
      "outputs": [
        {
          "output_type": "stream",
          "name": "stdout",
          "text": [
            "Os valores são:  0\n",
            "Os valores são:  1\n",
            "Os valores são:  2\n",
            "Os valores são:  3\n",
            "Os valores são:  4\n",
            "Os valores são:  5\n",
            "Os valores são:  6\n",
            "Os valores são:  7\n",
            "Os valores são:  8\n",
            "Os valores são:  9\n"
          ]
        }
      ]
    },
    {
      "cell_type": "code",
      "source": [
        "valor= int(input(\"Digite o valor: \"))\n",
        "fim= int(input(\"Digite o valor: \"))\n",
        "meio = int(input(\"Digite o valor: \"))\n",
        "\n",
        "for i in range(valor, fim, meio):\n",
        "  print(i)"
      ],
      "metadata": {
        "colab": {
          "base_uri": "https://localhost:8080/"
        },
        "id": "hcaFNaDrK7HL",
        "outputId": "9f0a91ee-2465-4dff-c0d7-ed76a3f94c62"
      },
      "execution_count": 31,
      "outputs": [
        {
          "output_type": "stream",
          "name": "stdout",
          "text": [
            "Digite o valor: 0\n",
            "Digite o valor: 21\n",
            "Digite o valor: 2\n",
            "0\n",
            "2\n",
            "4\n",
            "6\n",
            "8\n",
            "10\n",
            "12\n",
            "14\n",
            "16\n",
            "18\n",
            "20\n"
          ]
        }
      ]
    },
    {
      "cell_type": "code",
      "source": [
        "soma = 0\n",
        "for i in range(4):\n",
        "  valor = int(input(\"Digite o valor para ser somado: \"))\n",
        "  soma += valor\n",
        "print(soma)3"
      ],
      "metadata": {
        "colab": {
          "base_uri": "https://localhost:8080/"
        },
        "id": "yls1ZKRmRJf7",
        "outputId": "d7e65d19-7ae1-4f24-f5dd-284979d9486f"
      },
      "execution_count": 57,
      "outputs": [
        {
          "output_type": "stream",
          "name": "stdout",
          "text": [
            "Digite o valor para ser somado: 2\n",
            "Digite o valor para ser somado: 5\n",
            "Digite o valor para ser somado: 7\n",
            "Digite o valor para ser somado: 3\n",
            "17\n"
          ]
        }
      ]
    },
    {
      "cell_type": "code",
      "source": [
        "for i in range(0, 50, 2):\n",
        "     print(i)"
      ],
      "metadata": {
        "colab": {
          "base_uri": "https://localhost:8080/"
        },
        "id": "yLUNYlchX0uG",
        "outputId": "4b722d44-2d28-44a5-f8aa-35e606ebbe0f"
      },
      "execution_count": 58,
      "outputs": [
        {
          "output_type": "stream",
          "name": "stdout",
          "text": [
            "0\n",
            "2\n",
            "4\n",
            "6\n",
            "8\n",
            "10\n",
            "12\n",
            "14\n",
            "16\n",
            "18\n",
            "20\n",
            "22\n",
            "24\n",
            "26\n",
            "28\n",
            "30\n",
            "32\n",
            "34\n",
            "36\n",
            "38\n",
            "40\n",
            "42\n",
            "44\n",
            "46\n",
            "48\n"
          ]
        }
      ]
    }
  ]
}