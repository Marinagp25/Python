{
 "cells": [
  {
   "cell_type": "code",
   "execution_count": 10,
   "id": "25b9c24c",
   "metadata": {},
   "outputs": [
    {
     "name": "stdout",
     "output_type": "stream",
     "text": [
      "É feita a conversão sabendo que o dolar é R$ 4,76\n",
      "O valor do real a ser convertido é: 5.5\n",
      "O valor é: \n",
      "26.18\n"
     ]
    }
   ],
   "source": [
    "dolar= 4.76\n",
    "\n",
    "print(\"É feita a conversão sabendo que o dolar é R$ 4,76\")\n",
    "real= float(input(\"O valor do real a ser convertido é: \"))\n",
    "\n",
    "conv= dolar * real\n",
    "print(\"O valor é: \")\n",
    "print(conv)"
   ]
  },
  {
   "cell_type": "code",
   "execution_count": 14,
   "id": "1e3a8b09",
   "metadata": {},
   "outputs": [
    {
     "name": "stdout",
     "output_type": "stream",
     "text": [
      "A cada fim de mês, o dinheiro guardado em poupança, tem rendimento de 0,70%\n",
      "O valor no fim de mês é: 1500\n",
      "1605.0\n"
     ]
    }
   ],
   "source": [
    "print(\"A cada fim de mês, o dinheiro guardado em poupança, tem rendimento de 0,70%\")\n",
    "valor= float(input(\"O valor no fim de mês é: \"))\n",
    "total= valor + (valor * 7/100)\n",
    "print(total)"
   ]
  },
  {
   "cell_type": "code",
   "execution_count": 15,
   "id": "5cd0b1c7",
   "metadata": {},
   "outputs": [
    {
     "name": "stdout",
     "output_type": "stream",
     "text": [
      "Loja Mamão com Açucar\n",
      "Microondas R$ 300\n",
      "Mesa R$ 200\n",
      "Cadeira R$ 100\n",
      "De acordo com produto que seguirá as 5 prestações sem juros, digite o valor deste: 300\n",
      "300.0\n",
      "100.0\n",
      "100.0\n",
      "75.0\n",
      "60.0\n"
     ]
    }
   ],
   "source": [
    "print(\"Loja Mamão com Açucar\")\n",
    "print(\"Microondas R$ 300\")\n",
    "print(\"Mesa R$ 200\")\n",
    "print(\"Cadeira R$ 100\")\n",
    "\n",
    "escolha= int(input(\"De acordo com produto que seguirá as 5 prestações sem juros, digite o valor deste: \"))\n",
    "\n",
    "n1= escolha / 1\n",
    "print(n1)\n",
    "\n",
    "n2= escolha / 3\n",
    "print(n2)\n",
    "\n",
    "n3= escolha / 3\n",
    "print(n3)\n",
    "\n",
    "n4= escolha / 4\n",
    "print(n4)\n",
    "\n",
    "n5= escolha / 5\n",
    "print(n5)\n",
    "\n"
   ]
  },
  {
   "cell_type": "code",
   "execution_count": 19,
   "id": "7f728fa7",
   "metadata": {},
   "outputs": [
    {
     "name": "stdout",
     "output_type": "stream",
     "text": [
      "Foi feita compra de 200 cadeiras, sendo que percentual para a venda tendo acrescimo\n",
      "Valor un de cada cadeira: 75\n",
      "Acrescimo é de: 0.6\n",
      "120.0\n"
     ]
    }
   ],
   "source": [
    "print(\"Foi feita compra de 200 cadeiras, sendo que percentual para a venda tendo acrescimo\")\n",
    "un= int(input(\"Valor un de cada cadeira: \"))\n",
    "acrescimo = float(input(\"Acrescimo é de: \"))\n",
    "total= un + (un * acrescimo)\n",
    "print(total)"
   ]
  },
  {
   "cell_type": "code",
   "execution_count": null,
   "id": "8b991e34",
   "metadata": {},
   "outputs": [],
   "source": []
  }
 ],
 "metadata": {
  "kernelspec": {
   "display_name": "Python 3 (ipykernel)",
   "language": "python",
   "name": "python3"
  },
  "language_info": {
   "codemirror_mode": {
    "name": "ipython",
    "version": 3
   },
   "file_extension": ".py",
   "mimetype": "text/x-python",
   "name": "python",
   "nbconvert_exporter": "python",
   "pygments_lexer": "ipython3",
   "version": "3.9.7"
  }
 },
 "nbformat": 4,
 "nbformat_minor": 5
}
