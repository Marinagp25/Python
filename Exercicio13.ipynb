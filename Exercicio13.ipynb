{
  "nbformat": 4,
  "nbformat_minor": 0,
  "metadata": {
    "colab": {
      "name": "Exercicio13.ipynb",
      "provenance": [],
      "authorship_tag": "ABX9TyMNO3dA8CoE0LfxH4PPrUlx",
      "include_colab_link": true
    },
    "kernelspec": {
      "name": "python3",
      "display_name": "Python 3"
    },
    "language_info": {
      "name": "python"
    }
  },
  "cells": [
    {
      "cell_type": "markdown",
      "metadata": {
        "id": "view-in-github",
        "colab_type": "text"
      },
      "source": [
        "<a href=\"https://colab.research.google.com/github/Marinagp25/Python/blob/main/Exercicio13.ipynb\" target=\"_parent\"><img src=\"https://colab.research.google.com/assets/colab-badge.svg\" alt=\"Open In Colab\"/></a>"
      ]
    },
    {
      "cell_type": "code",
      "execution_count": 6,
      "metadata": {
        "colab": {
          "base_uri": "https://localhost:8080/"
        },
        "id": "cglzJ7FIMMBP",
        "outputId": "a8e2c084-7d5f-4cc3-bd63-75d25d79ad2d"
      },
      "outputs": [
        {
          "output_type": "stream",
          "name": "stdout",
          "text": [
            "Quantidade vendida neste mês : 65300\n",
            "Batemos a meta de vendas que foi:  65300.0\n"
          ]
        }
      ],
      "source": [
        "meta_iphone = 50000\n",
        "qtd_venda =  float(input(\"Quantidade vendida neste mês : \"))\n",
        "                \n",
        "if qtd_venda > meta_iphone:\n",
        "    print(\"Batemos a meta de vendas que foi: \", qtd_venda)\n",
        "    "
      ]
    },
    {
      "cell_type": "code",
      "source": [
        "meta_iphone = 50000\n",
        "qtd_venda =  653000\n",
        "                \n",
        "if qtd_venda > meta_iphone:\n",
        "    print(\"Batemos a meta de vendas que foi: \", qtd_venda)\n",
        "else:\n",
        "    print(\"Infelizmente não batemos a meta, vendemos\", qtd_venda, \"unidades. A meta era de\", meta_iphone, \"unidades\")"
      ],
      "metadata": {
        "colab": {
          "base_uri": "https://localhost:8080/"
        },
        "id": "JU5j4WsyMdoJ",
        "outputId": "08218dbd-61d1-46b9-e627-a07478bcdb11"
      },
      "execution_count": 10,
      "outputs": [
        {
          "output_type": "stream",
          "name": "stdout",
          "text": [
            "Batemos a meta de vendas que foi:  653000\n"
          ]
        }
      ]
    },
    {
      "cell_type": "code",
      "source": [
        "meta_iphone = 50000\n",
        "qtd_venda =  45300\n",
        "                \n",
        "if qtd_venda > meta_iphone:\n",
        "    print(\"Batemos a meta de vendas que foi: \", qtd_venda)\n",
        "else:\n",
        "    print(\"Infelizmente não batemos a meta, vendemos\", qtd_venda, \"unidades. A meta era de\", meta_iphone, \"unidades\")"
      ],
      "metadata": {
        "colab": {
          "base_uri": "https://localhost:8080/"
        },
        "id": "Xg_HbmX6NvRt",
        "outputId": "c6fcfb09-80a0-4b10-a2ac-14d07180b4cc"
      },
      "execution_count": 13,
      "outputs": [
        {
          "output_type": "stream",
          "name": "stdout",
          "text": [
            "Infelizmente não batemos a meta, vendemos 45300 unidades. A meta era de 50000 unidades\n"
          ]
        }
      ]
    }
  ]
}