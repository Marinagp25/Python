{
  "nbformat": 4,
  "nbformat_minor": 0,
  "metadata": {
    "colab": {
      "name": "Exemplo Caixa Eletrônico.ipynb",
      "provenance": [],
      "authorship_tag": "ABX9TyMY1GrCbD4jL/mqVpOHFaNv",
      "include_colab_link": true
    },
    "kernelspec": {
      "name": "python3",
      "display_name": "Python 3"
    },
    "language_info": {
      "name": "python"
    }
  },
  "cells": [
    {
      "cell_type": "markdown",
      "metadata": {
        "id": "view-in-github",
        "colab_type": "text"
      },
      "source": [
        "<a href=\"https://colab.research.google.com/github/Marinagp25/Python/blob/main/Exemplo_Caixa_Eletr%C3%B4nico.ipynb\" target=\"_parent\"><img src=\"https://colab.research.google.com/assets/colab-badge.svg\" alt=\"Open In Colab\"/></a>"
      ]
    },
    {
      "cell_type": "code",
      "execution_count": 10,
      "metadata": {
        "colab": {
          "base_uri": "https://localhost:8080/"
        },
        "id": "F803YTJ1Afh6",
        "outputId": "0c7a6341-2709-4229-9196-692b41b31608"
      },
      "outputs": [
        {
          "output_type": "stream",
          "name": "stdout",
          "text": [
            "Funcionário recebe por mês respectivo valor, sendo que conforme C/C escolhida, há taxa de manutenção mensal que desconta 13,90\n",
            "Sendo assim, neste programa apresente o valor recebido e constando no extrato o valor total com o que foi retirada\n",
            "Fazer saque e constar se ainda há saldo ou não\n",
            "Salário a receber: 1500\n",
            "\n",
            " Extrato com retirada do valor:  1486.1\n",
            "\n",
            " Deseja fazer saque? Digite S ou N: S\n",
            "\n",
            " Valor a ser sacado? 500\n",
            "\n",
            " Escolha abaixo cédulas disponiveis \n",
            "\n",
            " Sendo que possui 10,00  20,00 50,00 e 100,00. Digite o valor\n",
            "\n",
            " Escolha Desejada das cédulas: 100\n",
            "\n",
            " Não há saldo\n",
            "\n",
            " Saldo:  986.0999999999999\n"
          ]
        }
      ],
      "source": [
        "print(\"Funcionário recebe por mês respectivo valor, sendo que conforme C/C escolhida, há taxa de manutenção mensal que desconta 13,90\")\n",
        "print(\"Sendo assim, neste programa apresente o valor recebido e constando no extrato o valor total com o que foi retirada\")\n",
        "print(\"Fazer saque e constar se ainda há saldo ou não\")\n",
        "\n",
        "salario = float(input(\"Salário a receber: \"))\n",
        "manut = 13.90\n",
        "valor_salario = (salario - manut)\n",
        "print(\"\\n Extrato com retirada do valor: \", float(valor_salario))\n",
        "\n",
        "opcao = input(\"\\n Deseja fazer saque? Digite S ou N: \")\n",
        "\n",
        "if opcao == \"S\":\n",
        "  saque = float(input(\"\\n Valor a ser sacado? \")) \n",
        "  saldo = valor_salario - saque\n",
        "elif opcao == \"N\":\n",
        "  print(\"\\n Agradecemos a preferência e volte sempre\")\n",
        "else:\n",
        "  print(\"Sair\")\n",
        "\n",
        "if opcao == \"S\":\n",
        "  print(\"\\n Escolha abaixo cédulas disponiveis \")\n",
        "  print(\"\\n Sendo que possui 10,00  20,00 50,00 e 100,00. Digite o valor\")\n",
        "  esc_2 = float(input(\"\\n Escolha cédulas Desejadas: \"))\n",
        "else:\n",
        " print(\"\\n Sair\")\n",
        "\n",
        "if saldototal >= 0:\n",
        "  print(\"\\n Ainda há saldo no banco\")\n",
        "else:\n",
        "  print(\"\\n Não há saldo\")\n",
        "\n",
        "if opcao == \"S\":\n",
        "   saldototal = valor_salario - saque\n",
        "   print(\"\\n Saldo: \", saldototal)\n",
        "else:\n",
        "   print(\"\\n Saldo: \", valor_salario)\n",
        "\n"
      ]
    },
    {
      "cell_type": "code",
      "source": [
        ""
      ],
      "metadata": {
        "id": "36Nn5230uGGO"
      },
      "execution_count": null,
      "outputs": []
    },
    {
      "cell_type": "code",
      "source": [
        ""
      ],
      "metadata": {
        "id": "2ajTCAH7Q8RD"
      },
      "execution_count": null,
      "outputs": []
    }
  ]
}