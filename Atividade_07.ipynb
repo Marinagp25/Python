{
  "nbformat": 4,
  "nbformat_minor": 0,
  "metadata": {
    "colab": {
      "name": "Atividade 07.ipynb",
      "provenance": [],
      "authorship_tag": "ABX9TyNVFzN2n/GP2woOeZD+8/dh",
      "include_colab_link": true
    },
    "kernelspec": {
      "name": "python3",
      "display_name": "Python 3"
    },
    "language_info": {
      "name": "python"
    }
  },
  "cells": [
    {
      "cell_type": "markdown",
      "metadata": {
        "id": "view-in-github",
        "colab_type": "text"
      },
      "source": [
        "<a href=\"https://colab.research.google.com/github/Marinagp25/Python/blob/main/Atividade_07.ipynb\" target=\"_parent\"><img src=\"https://colab.research.google.com/assets/colab-badge.svg\" alt=\"Open In Colab\"/></a>"
      ]
    },
    {
      "cell_type": "code",
      "execution_count": 3,
      "metadata": {
        "id": "kWkgw33IQ4Cw",
        "colab": {
          "base_uri": "https://localhost:8080/"
        },
        "outputId": "05e57ff9-104a-4a46-b3c2-b64246fd9860"
      },
      "outputs": [
        {
          "output_type": "stream",
          "name": "stdout",
          "text": [
            "Atividade 07\n",
            "Valor altura: 5\n",
            "Valor do comprimento: 6\n",
            "30.5\n"
          ]
        }
      ],
      "source": [
        "#Escreva um algoritmo para ler as dimensões de a hipotenusa de um triângulo. Use h**2 = a**2 + b**2\n",
        "\n",
        "print(\"Atividade 07\")\n",
        "a = float(input(\"Valor altura: \"))\n",
        "b = float(input(\"Valor do comprimento: \"))\n",
        "h = (a**2 + b**2) ** 1/2\n",
        "print(h)\n",
        "\n"
      ]
    }
  ]
}