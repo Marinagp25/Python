{
  "nbformat": 4,
  "nbformat_minor": 0,
  "metadata": {
    "colab": {
      "name": "Exercicio14.ipynb",
      "provenance": [],
      "authorship_tag": "ABX9TyP6U9mJ2HLseiayNpoHhzcP",
      "include_colab_link": true
    },
    "kernelspec": {
      "name": "python3",
      "display_name": "Python 3"
    },
    "language_info": {
      "name": "python"
    }
  },
  "cells": [
    {
      "cell_type": "markdown",
      "metadata": {
        "id": "view-in-github",
        "colab_type": "text"
      },
      "source": [
        "<a href=\"https://colab.research.google.com/github/Marinagp25/Python/blob/main/Exercicio14.ipynb\" target=\"_parent\"><img src=\"https://colab.research.google.com/assets/colab-badge.svg\" alt=\"Open In Colab\"/></a>"
      ]
    },
    {
      "cell_type": "code",
      "execution_count": 3,
      "metadata": {
        "colab": {
          "base_uri": "https://localhost:8080/"
        },
        "id": "WF86iF1MZWuT",
        "outputId": "a50252cf-f100-45ef-a575-ab847046f457"
      },
      "outputs": [
        {
          "output_type": "stream",
          "name": "stdout",
          "text": [
            "Funcionário tem direito bônus:  100.0\n",
            "Não tem direito a bônus\n",
            "Funcionário tem direito bônus:  270.0\n"
          ]
        }
      ],
      "source": [
        "#Cálculo de Bônus\n",
        "#Crie um programa que calcule e dê um print no bônus que os funcionários devem receber segundo a regra:\n",
        "#A meta é 1000 vendas.\n",
        "#Se o valor de vendas for maior ou igual a meta, o valor do bônus do funcionário é 10% do valor de vendas.\n",
        "#Caso contrário o valor de bônus do funcionário é 0.\n",
        "#Print o bônus dos 3 funcionários\n",
        "\n",
        "meta = 1000\n",
        "vendas_f1 = 1000\n",
        "vendas_f2 = 770\n",
        "vendas_f3 = 2700\n",
        "\n",
        "if vendas_f1 >= meta:\n",
        "  bonus = vendas_f1 * 10/100\n",
        "  print(\"Funcionário tem direito bônus: \", bonus)\n",
        "else:\n",
        "  print(\"Não tem direito a bônus\")\n",
        "\n",
        "if vendas_f2 >= meta:\n",
        "  bonus = vendas_f2 * 10/100\n",
        "  print(\"Funcionário tem direito bônus: \", bonus)\n",
        "else:\n",
        "  print(\"Não tem direito a bônus\")\n",
        "\n",
        "if vendas_f3 >= meta:\n",
        "  bonus = vendas_f3 * 10/100\n",
        "  print(\"Funcionário tem direito bônus: \", bonus)\n",
        "else:\n",
        "  print(\"Não tem direito a bônus\")\n"
      ]
    },
    {
      "cell_type": "code",
      "source": [
        "#Cálculo de bônus com uma nova regra\n",
        "#Agora, crie um novo código que calcule e dê um print no bônus dos funcionários novamente. Porém há uma nova regra nesse 2º caso:\n",
        "#A meta é 1000 vendas\n",
        "#Agora, os funcionários que venderem muito acima da meta ganham mais bônus do que os outros. Então o bônus é definido da seguinte forma:\n",
        "#Se vendas funcionário for maior ou igual a 2000, então o bônus é de 15% sobre o valor de vendas\n",
        "#Se vendas funcionário for menor do que 2000 e maior ou igual a 1000, então o bônus é de 10% sobre o valor de vendas\n",
        "#Se vendas funcionário for menos do que 1000 então o bônus do funcionário é de 0.\n",
        "#Use as mesmas variáveis de vendas_funcionários\n",
        "\n",
        "meta = 1000\n",
        "vendas_f1 = 1000\n",
        "vendas_f2 = 770\n",
        "vendas_f3 = 2700\n",
        "\n",
        "if vendas_f1 >= 2000:\n",
        "  bonus = vendas_f1 * 15/100\n",
        "  print(\"Funcionário tem direito bônus: \", bonus)\n",
        "elif vendas_f1 > 2000:\n",
        "  bonus = vendas_f1 * 10/100\n",
        "  print(\"Funcionario tem direito bonus: \", bonus)\n",
        "elif vendas_f1 >= 1000:\n",
        "  print(\"Funcionario tem direito bonus: \", bonus)  \n",
        "else:\n",
        "  print(\"Não tem direito a bônus\")\n",
        "\n",
        "if vendas_f2 >= 2000:\n",
        "  bonus = vendas_f2 * 15/100\n",
        "  print(\"Funcionário tem direito bônus: \", bonus)\n",
        "elif vendas_f2 > 2000:\n",
        "  bonus = vendas_f2 * 10/100\n",
        "  print(\"Funcionario tem direito bonus: \", bonus)\n",
        "elif vendas_f2 >= 1000:\n",
        "  print(\"Funcionario tem direito bonus: \", bonus)  \n",
        "else:\n",
        "  print(\"Não tem direito a bônus\")\n",
        "\n",
        "if vendas_f3 >= 2000:\n",
        "  bonus = vendas_f3 * 15/100\n",
        "  print(\"Funcionário tem direito bônus: \", bonus)\n",
        "elif vendas_f3 > 2000:\n",
        "  bonus = vendas_f3 * 10/100\n",
        "  print(\"Funcionario tem direito bonus: \", bonus)\n",
        "elif vendas_f3 >= 1000:\n",
        "  print(\"Funcionario tem direito bonus: \", bonus)  \n",
        "else:\n",
        "  print(\"Não tem direito a bônus\")"
      ],
      "metadata": {
        "colab": {
          "base_uri": "https://localhost:8080/"
        },
        "id": "ZNPdq2tkbYTG",
        "outputId": "0d0d261b-a4d3-40c4-b53b-b9a699a5d32a"
      },
      "execution_count": 4,
      "outputs": [
        {
          "output_type": "stream",
          "name": "stdout",
          "text": [
            "Funcionario tem direito bonus:  270.0\n",
            "Não tem direito a bônus\n",
            "Funcionário tem direito bônus:  405.0\n"
          ]
        }
      ]
    }
  ]
}