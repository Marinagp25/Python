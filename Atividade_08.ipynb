{
  "nbformat": 4,
  "nbformat_minor": 0,
  "metadata": {
    "colab": {
      "name": "Atividade 08.ipynb",
      "provenance": [],
      "authorship_tag": "ABX9TyPzSBUTf3Gx0yoQlPxsDejO",
      "include_colab_link": true
    },
    "kernelspec": {
      "name": "python3",
      "display_name": "Python 3"
    },
    "language_info": {
      "name": "python"
    }
  },
  "cells": [
    {
      "cell_type": "markdown",
      "metadata": {
        "id": "view-in-github",
        "colab_type": "text"
      },
      "source": [
        "<a href=\"https://colab.research.google.com/github/Marinagp25/Python/blob/main/Atividade_08.ipynb\" target=\"_parent\"><img src=\"https://colab.research.google.com/assets/colab-badge.svg\" alt=\"Open In Colab\"/></a>"
      ]
    },
    {
      "cell_type": "code",
      "execution_count": 5,
      "metadata": {
        "id": "kWkgw33IQ4Cw",
        "colab": {
          "base_uri": "https://localhost:8080/"
        },
        "outputId": "47a279dd-5130-4210-dfce-f708055c548f"
      },
      "outputs": [
        {
          "output_type": "stream",
          "name": "stdout",
          "text": [
            "Atividade 08\n",
            "9.0\n"
          ]
        }
      ],
      "source": [
        "#Escreval(\"Calcule o perímetro do triângulo retângulo a seguir sabendo que\")\n",
        "#escreval(\"a altura é 3m e a base 6m: \")\n",
        "\n",
        "print(\"Atividade 08\")\n",
        "altura = 3\n",
        "base = 6\n",
        "area = (base * altura) /2\n",
        "print(area)\n",
        "\n"
      ]
    }
  ]
}