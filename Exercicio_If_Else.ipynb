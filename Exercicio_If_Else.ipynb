{
  "nbformat": 4,
  "nbformat_minor": 0,
  "metadata": {
    "colab": {
      "name": "Exercicio If/Else.ipynb",
      "provenance": [],
      "collapsed_sections": [],
      "authorship_tag": "ABX9TyMV59IdJ1U1coel2Y1wSbUn",
      "include_colab_link": true
    },
    "kernelspec": {
      "name": "python3",
      "display_name": "Python 3"
    },
    "language_info": {
      "name": "python"
    }
  },
  "cells": [
    {
      "cell_type": "markdown",
      "metadata": {
        "id": "view-in-github",
        "colab_type": "text"
      },
      "source": [
        "<a href=\"https://colab.research.google.com/github/Marinagp25/Python/blob/main/Exercicio_If_Else.ipynb\" target=\"_parent\"><img src=\"https://colab.research.google.com/assets/colab-badge.svg\" alt=\"Open In Colab\"/></a>"
      ]
    },
    {
      "cell_type": "code",
      "execution_count": 4,
      "metadata": {
        "colab": {
          "base_uri": "https://localhost:8080/"
        },
        "id": "cglzJ7FIMMBP",
        "outputId": "45171ece-e7dd-4765-bfa7-867b0d4b6cbc"
      },
      "outputs": [
        {
          "output_type": "stream",
          "name": "stdout",
          "text": [
            "Quantidade vendida neste mês : 500000\n",
            "Batemos a meta de vendas que foi:  500000.0\n"
          ]
        }
      ],
      "source": [
        "meta_iphone = 50000  #Constante\n",
        "qtd_venda =  float(input(\"Quantidade vendida neste mês : \")) #Variável em que recebe valor\n",
        "                \n",
        "if qtd_venda > meta_iphone:  # If (Se) qtd_venda for maior que meta_iphone, irá imprimir o que consta dentro de aspas\n",
        "    print(\"Batemos a meta de vendas que foi: \", qtd_venda)\n",
        "    "
      ]
    },
    {
      "cell_type": "code",
      "source": [
        "#Exemplo na qual bate a meta, já com valores incluidos\n",
        "\n",
        "meta_iphone = 50000 #Constante\n",
        "qtd_venda =  653000 #Constante\n",
        "                \n",
        "if qtd_venda > meta_iphone: # If (Se) qtd_venda for maior que meta_iphone, irá imprimir o que consta dentro de aspas + qtd_vendas da constante\n",
        "    print(\"Batemos a meta de vendas que foi: \", qtd_venda)\n",
        "else: #Else (Senão) irá imprimir o que consta dentro de aspas + qtd_venda + frase dentro de aspas + e qual seria meta_iphone\n",
        "    print(\"Infelizmente não batemos a meta, vendemos\", qtd_venda, \"unidades. A meta era de\", meta_iphone, \"unidades\")"
      ],
      "metadata": {
        "colab": {
          "base_uri": "https://localhost:8080/"
        },
        "id": "JU5j4WsyMdoJ",
        "outputId": "8c531d49-ff6c-449b-d455-edf05d73a1ba"
      },
      "execution_count": 2,
      "outputs": [
        {
          "output_type": "stream",
          "name": "stdout",
          "text": [
            "Batemos a meta de vendas que foi:  653000\n"
          ]
        }
      ]
    },
    {
      "cell_type": "code",
      "source": [
        "#Exemplo na qual bate a meta, já com valores incluidos\n",
        "\n",
        "meta_iphone = 50000 #Constante\n",
        "qtd_venda =  45300 #Constante\n",
        "                \n",
        "if qtd_venda > meta_iphone: # If (Se) qtd_venda for maior que meta_iphone, irá imprimir o que consta dentro de aspas + qtd_vendas da constante\n",
        "    print(\"Batemos a meta de vendas que foi: \", qtd_venda)\n",
        "else: #Else (Senão) irá imprimir o que consta dentro de aspas + qtd_venda + frase dentro de aspas + e qual seria meta_iphone\n",
        "    print(\"Infelizmente não batemos a meta, vendemos\", qtd_venda, \"unidades. A meta era de\", meta_iphone, \"unidades\")"
      ],
      "metadata": {
        "colab": {
          "base_uri": "https://localhost:8080/"
        },
        "id": "Xg_HbmX6NvRt",
        "outputId": "402313d5-aea1-4f0a-a5b9-f8e71f4b92b3"
      },
      "execution_count": 3,
      "outputs": [
        {
          "output_type": "stream",
          "name": "stdout",
          "text": [
            "Infelizmente não batemos a meta, vendemos 45300 unidades. A meta era de 50000 unidades\n"
          ]
        }
      ]
    }
  ]
}