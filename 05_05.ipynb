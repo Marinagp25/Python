{
  "nbformat": 4,
  "nbformat_minor": 0,
  "metadata": {
    "colab": {
      "name": "05_05.ipynb",
      "provenance": [],
      "authorship_tag": "ABX9TyOMpiaVmzw8qNqtBaknXyzP",
      "include_colab_link": true
    },
    "kernelspec": {
      "name": "python3",
      "display_name": "Python 3"
    },
    "language_info": {
      "name": "python"
    }
  },
  "cells": [
    {
      "cell_type": "markdown",
      "metadata": {
        "id": "view-in-github",
        "colab_type": "text"
      },
      "source": [
        "<a href=\"https://colab.research.google.com/github/Marinagp25/Python/blob/main/05_05.ipynb\" target=\"_parent\"><img src=\"https://colab.research.google.com/assets/colab-badge.svg\" alt=\"Open In Colab\"/></a>"
      ]
    },
    {
      "cell_type": "code",
      "execution_count": null,
      "metadata": {
        "id": "VUjKCO0jcmL2",
        "colab": {
          "base_uri": "https://localhost:8080/"
        },
        "outputId": "094ad91a-7c0a-49d3-b594-e5c6e0302d4a"
      },
      "outputs": [
        {
          "output_type": "stream",
          "name": "stdout",
          "text": [
            "-=--=--=--=--=--=--=--=--=--=--=--=--=--=--=--=--=--=--=--=-\n",
            "Paulo\n"
          ]
        }
      ],
      "source": [
        "print(\"-=-\"*20)\n",
        "print(\"Paulo\")\n",
        "\n"
      ]
    },
    {
      "cell_type": "code",
      "source": [
        "print(\"-\"*20)\n",
        "print(\"Marina Guimarães Pinheiro\")\n",
        "print(\"Idade: 27 anos\")\n",
        "print(\"-\"*20)\n",
        "print(\"-\"*20)\n",
        "print(\"Marina Guimarães Pinheiro\")\n",
        "print(\"Idade: 26 anos\")\n",
        "print(\"-\"*20)\n",
        "print(\"-\"*20)\n",
        "print(\"Marina Guimarães Pinheiro\")\n",
        "print(\"Idade: 25 anos\")\n",
        "print(\"-\"*20)\n",
        "print(\"-\"*20)\n",
        "print(\"Marina Guimarães Pinheiro\")\n",
        "print(\"Idade: 24 anos\")\n",
        "print(\"-\"*20)\n",
        "print(\"-\"*20)"
      ],
      "metadata": {
        "colab": {
          "base_uri": "https://localhost:8080/"
        },
        "id": "9laxvupKeJgJ",
        "outputId": "210d3165-9dd5-44a7-d89d-5bd762d36842"
      },
      "execution_count": null,
      "outputs": [
        {
          "output_type": "stream",
          "name": "stdout",
          "text": [
            "--------------------\n",
            "Marina Guimarães Pinheiro\n",
            "Idade: 27 anos\n",
            "--------------------\n",
            "--------------------\n",
            "Marina Guimarães Pinheiro\n",
            "Idade: 26 anos\n",
            "--------------------\n",
            "--------------------\n",
            "Marina Guimarães Pinheiro\n",
            "Idade: 25 anos\n",
            "--------------------\n",
            "--------------------\n",
            "Marina Guimarães Pinheiro\n",
            "Idade: 24 anos\n",
            "--------------------\n",
            "--------------------\n"
          ]
        }
      ]
    },
    {
      "cell_type": "code",
      "source": [
        "def mostraLinha():\n",
        "  print(\"-\"*20)\n",
        "\n",
        "\n",
        "mostraLinha()\n",
        "print(\"Marina Guimarães Pinheiro\")\n",
        "print(\"Idade: 27 anos\")\n",
        "mostraLinha()\n",
        "print(\"Marina Guimarães Pinheiro\")\n",
        "print(\"Idade: 26 anos\")\n",
        "mostraLinha()\n",
        "print(\"Marina Guimarães Pinheiro\")\n",
        "print(\"Idade: 25 anos\")\n",
        "mostraLinha()\n",
        "print(\"Marina Guimarães Pinheiro\")\n",
        "print(\"Idade: 24 anos\")\n",
        "mostraLinha()"
      ],
      "metadata": {
        "colab": {
          "base_uri": "https://localhost:8080/"
        },
        "id": "tq-rKGV5frjP",
        "outputId": "1d635a7b-6d66-45af-d187-735744f5b20d"
      },
      "execution_count": null,
      "outputs": [
        {
          "output_type": "stream",
          "name": "stdout",
          "text": [
            "--------------------\n",
            "Marina Guimarães Pinheiro\n",
            "Idade: 27 anos\n",
            "--------------------\n",
            "Marina Guimarães Pinheiro\n",
            "Idade: 26 anos\n",
            "--------------------\n",
            "Marina Guimarães Pinheiro\n",
            "Idade: 25 anos\n",
            "--------------------\n",
            "Marina Guimarães Pinheiro\n",
            "Idade: 24 anos\n",
            "--------------------\n"
          ]
        }
      ]
    },
    {
      "cell_type": "code",
      "source": [
        "def mensagem(msg):\n",
        "  print(\"-\"*30)\n",
        "  print(msg)\n",
        "  print(\"-\"*30)\n",
        "\n",
        "mensagem(\"CETAM\")\n",
        "mensagem(\"Marina Pinheiro\")\n",
        "mensagem(\"Curso IA\")\n"
      ],
      "metadata": {
        "colab": {
          "base_uri": "https://localhost:8080/"
        },
        "id": "2pK2gmRIgbB5",
        "outputId": "da96e809-640a-41af-cf7a-12a5709baa8b"
      },
      "execution_count": null,
      "outputs": [
        {
          "output_type": "stream",
          "name": "stdout",
          "text": [
            "------------------------------\n",
            "CETAM\n",
            "------------------------------\n",
            "------------------------------\n",
            "Marina Pinheiro\n",
            "------------------------------\n",
            "------------------------------\n",
            "Curso IA\n",
            "------------------------------\n"
          ]
        }
      ]
    },
    {
      "cell_type": "code",
      "source": [
        "def somaNumeros(a, b):\n",
        "  s = a + b\n",
        "  print(s)\n",
        "\n",
        "somaNumeros(4,5)\n",
        "somaNumeros(40,5)\n",
        "somaNumeros(3,7)"
      ],
      "metadata": {
        "colab": {
          "base_uri": "https://localhost:8080/"
        },
        "id": "ITTO32YuhxOm",
        "outputId": "d81755de-779d-4746-fdc6-03f8611eb175"
      },
      "execution_count": null,
      "outputs": [
        {
          "output_type": "stream",
          "name": "stdout",
          "text": [
            "9\n",
            "45\n",
            "10\n"
          ]
        }
      ]
    },
    {
      "cell_type": "code",
      "source": [
        "def contador(* num):\n",
        "  tam =  len(num)\n",
        "  print(\"Este é o tamanho dele: \", tam)\n",
        "\n",
        "contador(2, 3, 4)\n",
        "contador(2, 3)\n",
        "contador(3, 4, 6, 8, 3, 7)"
      ],
      "metadata": {
        "colab": {
          "base_uri": "https://localhost:8080/"
        },
        "id": "Hr-D8G1uiWxx",
        "outputId": "916e5dca-172f-4aaa-cd2a-deddf317d472"
      },
      "execution_count": null,
      "outputs": [
        {
          "output_type": "stream",
          "name": "stdout",
          "text": [
            "Este é o tamanho dele:  3\n",
            "Este é o tamanho dele:  2\n",
            "Este é o tamanho dele:  6\n"
          ]
        }
      ]
    },
    {
      "cell_type": "code",
      "source": [
        "def mostrar(n):\n",
        "  for i in range(10):\n",
        "    i += 1\n",
        "    print(str(i)* i)\n",
        "    \n",
        "mostrar(8)"
      ],
      "metadata": {
        "colab": {
          "base_uri": "https://localhost:8080/"
        },
        "id": "KohpUA4Xi6ef",
        "outputId": "b9217eb4-bdb6-406d-cd81-9c15bcd84f35"
      },
      "execution_count": 79,
      "outputs": [
        {
          "output_type": "stream",
          "name": "stdout",
          "text": [
            "1\n",
            "22\n",
            "333\n",
            "4444\n",
            "55555\n",
            "666666\n",
            "7777777\n",
            "88888888\n",
            "999999999\n",
            "10101010101010101010\n"
          ]
        }
      ]
    },
    {
      "cell_type": "code",
      "source": [
        "def soma():\n",
        "   a = int(input(\"a = \"))\n",
        "   b = int(input(\"b = \"))\n",
        "   c = int(input(\"c = \"))\n",
        "   soma = a + b + c\n",
        "   print(\"O valor total é: \", soma)\n",
        "for i in range(3):\n",
        "    soma()\n",
        "\n"
      ],
      "metadata": {
        "id": "pPrZYjV1uT0D",
        "colab": {
          "base_uri": "https://localhost:8080/"
        },
        "outputId": "06a6e765-1376-4417-dcd9-eefbf884d43a"
      },
      "execution_count": 75,
      "outputs": [
        {
          "output_type": "stream",
          "name": "stdout",
          "text": [
            "a = 7\n",
            "b = 5\n",
            "c = 3\n",
            "O valor total é:  15\n",
            "a = 13\n",
            "b = 5\n",
            "c = 9\n",
            "O valor total é:  27\n",
            "a = 7\n",
            "b = 9\n",
            "c = 3\n",
            "O valor total é:  19\n"
          ]
        }
      ]
    },
    {
      "cell_type": "code",
      "source": [
        "def soma(a, b, c):\n",
        "  s = a + b + c\n",
        "  print(s)\n",
        "\n",
        "soma(7, 5, 3)\n",
        "soma(13, 5, 9)\n",
        "soma(7, 9, 3)"
      ],
      "metadata": {
        "id": "8t3ZW5OYtH-F",
        "colab": {
          "base_uri": "https://localhost:8080/"
        },
        "outputId": "e9befc8b-b9f0-44d3-b149-ea6323d70d79"
      },
      "execution_count": 76,
      "outputs": [
        {
          "output_type": "stream",
          "name": "stdout",
          "text": [
            "15\n",
            "27\n",
            "19\n"
          ]
        }
      ]
    },
    {
      "cell_type": "code",
      "source": [
        "def trueFalse(a):\n",
        "  if a > 0:\n",
        "    print(\"P\")\n",
        "  else:\n",
        "    print(\"N\")\n",
        "\n",
        "trueFalse(-1)\n",
        "trueFalse(0)\n",
        "trueFalse(1)"
      ],
      "metadata": {
        "colab": {
          "base_uri": "https://localhost:8080/"
        },
        "id": "bcPZo4wpxv4q",
        "outputId": "697981eb-f2de-4545-d5d3-cc43195bd4c4"
      },
      "execution_count": 77,
      "outputs": [
        {
          "output_type": "stream",
          "name": "stdout",
          "text": [
            "N\n",
            "N\n",
            "P\n"
          ]
        }
      ]
    }
  ]
}